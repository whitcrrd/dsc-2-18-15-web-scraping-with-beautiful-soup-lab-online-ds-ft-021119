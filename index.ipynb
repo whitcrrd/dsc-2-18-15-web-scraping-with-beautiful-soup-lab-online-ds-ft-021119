{
 "cells": [
  {
   "cell_type": "markdown",
   "metadata": {},
   "source": [
    "# Web Scraping with Beautiful Soup - Lab"
   ]
  },
  {
   "cell_type": "markdown",
   "metadata": {},
   "source": [
    "## Introduction\n",
    "\n",
    "Now that you've read and seen some docmentation regarding the use of Beautiful Soup, its time to practice and put that to work! In this lab you'll formalize some of our example code into functions and scrape the lyrics from an artist of your choice."
   ]
  },
  {
   "cell_type": "markdown",
   "metadata": {},
   "source": [
    "## Objectives\n",
    "You will be able to:\n",
    "* Scrape Static webpages\n",
    "* Select specific elements from the DOM"
   ]
  },
  {
   "cell_type": "markdown",
   "metadata": {},
   "source": [
    "## Link Scraping\n",
    "\n",
    "Write a function to collect the links to each of the song pages from a given artist page."
   ]
  },
  {
   "cell_type": "code",
   "execution_count": 13,
   "metadata": {},
   "outputs": [],
   "source": [
    "#Starter Code\n",
    "\n",
    "from bs4 import BeautifulSoup\n",
    "import requests\n",
    "\n",
    "### div.album -> \"album: (title)\"\n",
    "### a (siblings) -> songs\n",
    "###\n",
    "url = 'https://www.azlyrics.com/m/meghantrainor.html' #Put the URL of your AZLyrics Artist Page here!\n",
    "\n",
    "def get_songs(artist_page_url):\n",
    "    url = artist_page_url\n",
    "\n",
    "    html_page = requests.get(url) #Make a get request to retrieve the page\n",
    "    soup = BeautifulSoup(html_page.content, 'html.parser') #Pass the page contents to beautiful soup for parsing\n",
    "\n",
    "    #The example from our lecture/reading\n",
    "    data = [] #Create a storage container\n",
    "    albums = soup.find_all('div', class_='album')\n",
    "    for album_n in range(len(albums)):\n",
    "        #On the last album, we won't be able to look forward\n",
    "        if album_n == len(albums)-1:\n",
    "            cur_album = albums[album_n]\n",
    "            album_songs = cur_album.findNextSiblings('a')\n",
    "            for song in album_songs:\n",
    "                page = song.get('href')\n",
    "                title = song.text\n",
    "                album = cur_album.text\n",
    "                data.append((title, page, album))\n",
    "        else:\n",
    "            cur_album = albums[album_n]\n",
    "            next_album = albums[album_n+1]\n",
    "            saca = cur_album.findNextSiblings('a') #songs after current album\n",
    "            sbna = next_album.findPreviousSiblings('a') #songs before next album\n",
    "            album_songs = [song for song in saca if song in sbna] #album songs are those listed after the current album but before the next one!\n",
    "            for song in album_songs:\n",
    "                page = song.get('href')\n",
    "                title = song.text\n",
    "                album = cur_album.text\n",
    "                data.append((title, page, album))\n",
    "    return data\n",
    "    \n",
    "    "
   ]
  },
  {
   "cell_type": "markdown",
   "metadata": {},
   "source": [
    "## Text Scraping\n",
    "Write a secondary function that scrapes the lyrics for each song page."
   ]
  },
  {
   "cell_type": "code",
   "execution_count": 14,
   "metadata": {},
   "outputs": [],
   "source": [
    "#Remember to open up the webpage in a browser and control-click/right-click and go to inspect!\n",
    "from bs4 import BeautifulSoup\n",
    "import requests\n",
    "\n",
    "#Example page\n",
    "song_url = 'https://www.azlyrics.com/lyrics/meghantrainor/illwakeupforyou.html'\n",
    "\n",
    "def get_lyrics(song_url):\n",
    "    html_page = requests.get(song_url)\n",
    "    soup = BeautifulSoup(html_page.content, 'html.parser')\n",
    "    main = soup.find('div', {'class': 'container main-page'})\n",
    "    main2 = main.find('div', {'class': 'row'})\n",
    "    main3 = main2.find('div', {'class': 'col-xs-12 col-lg-8 text-center'})\n",
    "    lyrics = main3.findAll('div')[6].text\n",
    "    return lyrics\n",
    "    \n",
    "    "
   ]
  },
  {
   "cell_type": "markdown",
   "metadata": {},
   "source": [
    "## Synthesizing\n",
    "Create a script using your two functions above to scrape all of the song lyrics for a given artist.\n"
   ]
  },
  {
   "cell_type": "code",
   "execution_count": 15,
   "metadata": {},
   "outputs": [
    {
     "name": "stdout",
     "output_type": "stream",
     "text": [
      "117\n",
      "(\"I'll Wake Up For You\", '../lyrics/meghantrainor/illwakeupforyou.html', 'album: \"Meghan Trainor\" (2009)(Self-released album)')\n"
     ]
    }
   ],
   "source": [
    "songs = get_songs(url)\n",
    "print(len(songs))\n",
    "print(songs[0])"
   ]
  },
  {
   "cell_type": "code",
   "execution_count": 17,
   "metadata": {},
   "outputs": [],
   "source": [
    "base_url = \"https://www.azlyrics.com\"\n",
    "lyrics = []\n",
    "for song in songs:\n",
    "    try:\n",
    "        url_end = song[1].replace('..', '')\n",
    "        full_url = base_url + url_end\n",
    "        song_lyrics = get_lyrics(full_url)\n",
    "        lyrics.append(song_lyrics)\n",
    "    except:\n",
    "        lyrics.append(\"NA\")"
   ]
  },
  {
   "cell_type": "code",
   "execution_count": 18,
   "metadata": {},
   "outputs": [
    {
     "name": "stdout",
     "output_type": "stream",
     "text": [
      "117 117\n"
     ]
    }
   ],
   "source": [
    "print(len(songs), len(lyrics))"
   ]
  },
  {
   "cell_type": "code",
   "execution_count": 19,
   "metadata": {},
   "outputs": [
    {
     "data": {
      "text/html": [
       "<div>\n",
       "<style scoped>\n",
       "    .dataframe tbody tr th:only-of-type {\n",
       "        vertical-align: middle;\n",
       "    }\n",
       "\n",
       "    .dataframe tbody tr th {\n",
       "        vertical-align: top;\n",
       "    }\n",
       "\n",
       "    .dataframe thead th {\n",
       "        text-align: right;\n",
       "    }\n",
       "</style>\n",
       "<table border=\"1\" class=\"dataframe\">\n",
       "  <thead>\n",
       "    <tr style=\"text-align: right;\">\n",
       "      <th></th>\n",
       "      <th>0</th>\n",
       "      <th>1</th>\n",
       "    </tr>\n",
       "  </thead>\n",
       "  <tbody>\n",
       "    <tr>\n",
       "      <th>0</th>\n",
       "      <td>(I'll Wake Up For You, ../lyrics/meghantrainor...</td>\n",
       "      <td>\\n\\r\\nI'll wake for you\\nIn an hour or two\\nJu...</td>\n",
       "    </tr>\n",
       "    <tr>\n",
       "      <th>1</th>\n",
       "      <td>(Waterfalls, ../lyrics/meghantrainor/waterfall...</td>\n",
       "      <td>\\n\\r\\nI don't know, I don't know why\\nBut it's...</td>\n",
       "    </tr>\n",
       "    <tr>\n",
       "      <th>2</th>\n",
       "      <td>(Quite The Adventure, ../lyrics/meghantrainor/...</td>\n",
       "      <td>\\n\\r\\nDon't you know it's been too long, since...</td>\n",
       "    </tr>\n",
       "    <tr>\n",
       "      <th>3</th>\n",
       "      <td>(Locked In Love, ../lyrics/meghantrainor/locke...</td>\n",
       "      <td>\\n\\r\\nI'm losing my way\\nCan somebody find the...</td>\n",
       "    </tr>\n",
       "    <tr>\n",
       "      <th>4</th>\n",
       "      <td>(Falling, ../lyrics/meghantrainor/falling.html...</td>\n",
       "      <td>\\n\\r\\nI'm falling, I'm falling, harder than I ...</td>\n",
       "    </tr>\n",
       "  </tbody>\n",
       "</table>\n",
       "</div>"
      ],
      "text/plain": [
       "                                                   0  \\\n",
       "0  (I'll Wake Up For You, ../lyrics/meghantrainor...   \n",
       "1  (Waterfalls, ../lyrics/meghantrainor/waterfall...   \n",
       "2  (Quite The Adventure, ../lyrics/meghantrainor/...   \n",
       "3  (Locked In Love, ../lyrics/meghantrainor/locke...   \n",
       "4  (Falling, ../lyrics/meghantrainor/falling.html...   \n",
       "\n",
       "                                                   1  \n",
       "0  \\n\\r\\nI'll wake for you\\nIn an hour or two\\nJu...  \n",
       "1  \\n\\r\\nI don't know, I don't know why\\nBut it's...  \n",
       "2  \\n\\r\\nDon't you know it's been too long, since...  \n",
       "3  \\n\\r\\nI'm losing my way\\nCan somebody find the...  \n",
       "4  \\n\\r\\nI'm falling, I'm falling, harder than I ...  "
      ]
     },
     "execution_count": 19,
     "metadata": {},
     "output_type": "execute_result"
    }
   ],
   "source": [
    "import pandas as pd\n",
    "df = pd.DataFrame(list(zip(songs, lyrics)))\n",
    "df.head()"
   ]
  },
  {
   "cell_type": "code",
   "execution_count": 25,
   "metadata": {},
   "outputs": [
    {
     "data": {
      "text/html": [
       "<div>\n",
       "<style scoped>\n",
       "    .dataframe tbody tr th:only-of-type {\n",
       "        vertical-align: middle;\n",
       "    }\n",
       "\n",
       "    .dataframe tbody tr th {\n",
       "        vertical-align: top;\n",
       "    }\n",
       "\n",
       "    .dataframe thead th {\n",
       "        text-align: right;\n",
       "    }\n",
       "</style>\n",
       "<table border=\"1\" class=\"dataframe\">\n",
       "  <thead>\n",
       "    <tr style=\"text-align: right;\">\n",
       "      <th></th>\n",
       "      <th>0</th>\n",
       "      <th>lyrics</th>\n",
       "      <th>title</th>\n",
       "      <th>url</th>\n",
       "      <th>album</th>\n",
       "    </tr>\n",
       "  </thead>\n",
       "  <tbody>\n",
       "    <tr>\n",
       "      <th>0</th>\n",
       "      <td>(I'll Wake Up For You, ../lyrics/meghantrainor...</td>\n",
       "      <td>\\n\\r\\nI'll wake for you\\nIn an hour or two\\nJu...</td>\n",
       "      <td>I'll Wake Up For You</td>\n",
       "      <td>../lyrics/meghantrainor/illwakeupforyou.html</td>\n",
       "      <td>album: \"Meghan Trainor\" (2009)(Self-released a...</td>\n",
       "    </tr>\n",
       "    <tr>\n",
       "      <th>1</th>\n",
       "      <td>(Waterfalls, ../lyrics/meghantrainor/waterfall...</td>\n",
       "      <td>\\n\\r\\nI don't know, I don't know why\\nBut it's...</td>\n",
       "      <td>Waterfalls</td>\n",
       "      <td>../lyrics/meghantrainor/waterfalls.html</td>\n",
       "      <td>album: \"Meghan Trainor\" (2009)(Self-released a...</td>\n",
       "    </tr>\n",
       "    <tr>\n",
       "      <th>2</th>\n",
       "      <td>(Quite The Adventure, ../lyrics/meghantrainor/...</td>\n",
       "      <td>\\n\\r\\nDon't you know it's been too long, since...</td>\n",
       "      <td>Quite The Adventure</td>\n",
       "      <td>../lyrics/meghantrainor/quitetheadventure.html</td>\n",
       "      <td>album: \"Meghan Trainor\" (2009)(Self-released a...</td>\n",
       "    </tr>\n",
       "    <tr>\n",
       "      <th>3</th>\n",
       "      <td>(Locked In Love, ../lyrics/meghantrainor/locke...</td>\n",
       "      <td>\\n\\r\\nI'm losing my way\\nCan somebody find the...</td>\n",
       "      <td>Locked In Love</td>\n",
       "      <td>../lyrics/meghantrainor/lockedinlove.html</td>\n",
       "      <td>album: \"Meghan Trainor\" (2009)(Self-released a...</td>\n",
       "    </tr>\n",
       "    <tr>\n",
       "      <th>4</th>\n",
       "      <td>(Falling, ../lyrics/meghantrainor/falling.html...</td>\n",
       "      <td>\\n\\r\\nI'm falling, I'm falling, harder than I ...</td>\n",
       "      <td>Falling</td>\n",
       "      <td>../lyrics/meghantrainor/falling.html</td>\n",
       "      <td>album: \"Meghan Trainor\" (2009)(Self-released a...</td>\n",
       "    </tr>\n",
       "  </tbody>\n",
       "</table>\n",
       "</div>"
      ],
      "text/plain": [
       "                                                   0  \\\n",
       "0  (I'll Wake Up For You, ../lyrics/meghantrainor...   \n",
       "1  (Waterfalls, ../lyrics/meghantrainor/waterfall...   \n",
       "2  (Quite The Adventure, ../lyrics/meghantrainor/...   \n",
       "3  (Locked In Love, ../lyrics/meghantrainor/locke...   \n",
       "4  (Falling, ../lyrics/meghantrainor/falling.html...   \n",
       "\n",
       "                                              lyrics                 title  \\\n",
       "0  \\n\\r\\nI'll wake for you\\nIn an hour or two\\nJu...  I'll Wake Up For You   \n",
       "1  \\n\\r\\nI don't know, I don't know why\\nBut it's...            Waterfalls   \n",
       "2  \\n\\r\\nDon't you know it's been too long, since...   Quite The Adventure   \n",
       "3  \\n\\r\\nI'm losing my way\\nCan somebody find the...        Locked In Love   \n",
       "4  \\n\\r\\nI'm falling, I'm falling, harder than I ...               Falling   \n",
       "\n",
       "                                              url  \\\n",
       "0    ../lyrics/meghantrainor/illwakeupforyou.html   \n",
       "1         ../lyrics/meghantrainor/waterfalls.html   \n",
       "2  ../lyrics/meghantrainor/quitetheadventure.html   \n",
       "3       ../lyrics/meghantrainor/lockedinlove.html   \n",
       "4            ../lyrics/meghantrainor/falling.html   \n",
       "\n",
       "                                               album  \n",
       "0  album: \"Meghan Trainor\" (2009)(Self-released a...  \n",
       "1  album: \"Meghan Trainor\" (2009)(Self-released a...  \n",
       "2  album: \"Meghan Trainor\" (2009)(Self-released a...  \n",
       "3  album: \"Meghan Trainor\" (2009)(Self-released a...  \n",
       "4  album: \"Meghan Trainor\" (2009)(Self-released a...  "
      ]
     },
     "execution_count": 25,
     "metadata": {},
     "output_type": "execute_result"
    }
   ],
   "source": [
    "row = df.iloc[0]\n",
    "df['title'] = df[0].map(lambda x: x[0])\n",
    "df['url'] = df[0].map(lambda x: x[1])\n",
    "# df['url'] = df[0].map(lambda x: 'https://www.azlyrics.com' + x[1].replace('..', ''))\n",
    "df['album'] = df[0].map(lambda x: x[2])\n",
    "df = df.rename(columns={1:'lyrics'})\n",
    "df.head()"
   ]
  },
  {
   "cell_type": "code",
   "execution_count": 30,
   "metadata": {},
   "outputs": [
    {
     "data": {
      "text/plain": [
       "'album: \"Meghan Trainor\" (2009)(Self-released album)'"
      ]
     },
     "execution_count": 30,
     "metadata": {},
     "output_type": "execute_result"
    }
   ],
   "source": [
    "album = df.iloc[0].album\n",
    "album"
   ]
  },
  {
   "cell_type": "code",
   "execution_count": 39,
   "metadata": {},
   "outputs": [
    {
     "data": {
      "text/html": [
       "<div>\n",
       "<style scoped>\n",
       "    .dataframe tbody tr th:only-of-type {\n",
       "        vertical-align: middle;\n",
       "    }\n",
       "\n",
       "    .dataframe tbody tr th {\n",
       "        vertical-align: top;\n",
       "    }\n",
       "\n",
       "    .dataframe thead th {\n",
       "        text-align: right;\n",
       "    }\n",
       "</style>\n",
       "<table border=\"1\" class=\"dataframe\">\n",
       "  <thead>\n",
       "    <tr style=\"text-align: right;\">\n",
       "      <th></th>\n",
       "      <th>0</th>\n",
       "      <th>lyrics</th>\n",
       "      <th>title</th>\n",
       "      <th>url</th>\n",
       "      <th>album</th>\n",
       "      <th>year</th>\n",
       "    </tr>\n",
       "  </thead>\n",
       "  <tbody>\n",
       "    <tr>\n",
       "      <th>0</th>\n",
       "      <td>(I'll Wake Up For You, ../lyrics/meghantrainor...</td>\n",
       "      <td>\\n\\r\\nI'll wake for you\\nIn an hour or two\\nJu...</td>\n",
       "      <td>I'll Wake Up For You</td>\n",
       "      <td>../lyrics/meghantrainor/illwakeupforyou.html</td>\n",
       "      <td>album: \"Meghan Trainor\" (2009)(Self-released a...</td>\n",
       "      <td>2009</td>\n",
       "    </tr>\n",
       "    <tr>\n",
       "      <th>1</th>\n",
       "      <td>(Waterfalls, ../lyrics/meghantrainor/waterfall...</td>\n",
       "      <td>\\n\\r\\nI don't know, I don't know why\\nBut it's...</td>\n",
       "      <td>Waterfalls</td>\n",
       "      <td>../lyrics/meghantrainor/waterfalls.html</td>\n",
       "      <td>album: \"Meghan Trainor\" (2009)(Self-released a...</td>\n",
       "      <td>2009</td>\n",
       "    </tr>\n",
       "    <tr>\n",
       "      <th>2</th>\n",
       "      <td>(Quite The Adventure, ../lyrics/meghantrainor/...</td>\n",
       "      <td>\\n\\r\\nDon't you know it's been too long, since...</td>\n",
       "      <td>Quite The Adventure</td>\n",
       "      <td>../lyrics/meghantrainor/quitetheadventure.html</td>\n",
       "      <td>album: \"Meghan Trainor\" (2009)(Self-released a...</td>\n",
       "      <td>2009</td>\n",
       "    </tr>\n",
       "    <tr>\n",
       "      <th>3</th>\n",
       "      <td>(Locked In Love, ../lyrics/meghantrainor/locke...</td>\n",
       "      <td>\\n\\r\\nI'm losing my way\\nCan somebody find the...</td>\n",
       "      <td>Locked In Love</td>\n",
       "      <td>../lyrics/meghantrainor/lockedinlove.html</td>\n",
       "      <td>album: \"Meghan Trainor\" (2009)(Self-released a...</td>\n",
       "      <td>2009</td>\n",
       "    </tr>\n",
       "    <tr>\n",
       "      <th>4</th>\n",
       "      <td>(Falling, ../lyrics/meghantrainor/falling.html...</td>\n",
       "      <td>\\n\\r\\nI'm falling, I'm falling, harder than I ...</td>\n",
       "      <td>Falling</td>\n",
       "      <td>../lyrics/meghantrainor/falling.html</td>\n",
       "      <td>album: \"Meghan Trainor\" (2009)(Self-released a...</td>\n",
       "      <td>2009</td>\n",
       "    </tr>\n",
       "  </tbody>\n",
       "</table>\n",
       "</div>"
      ],
      "text/plain": [
       "                                                   0  \\\n",
       "0  (I'll Wake Up For You, ../lyrics/meghantrainor...   \n",
       "1  (Waterfalls, ../lyrics/meghantrainor/waterfall...   \n",
       "2  (Quite The Adventure, ../lyrics/meghantrainor/...   \n",
       "3  (Locked In Love, ../lyrics/meghantrainor/locke...   \n",
       "4  (Falling, ../lyrics/meghantrainor/falling.html...   \n",
       "\n",
       "                                              lyrics                 title  \\\n",
       "0  \\n\\r\\nI'll wake for you\\nIn an hour or two\\nJu...  I'll Wake Up For You   \n",
       "1  \\n\\r\\nI don't know, I don't know why\\nBut it's...            Waterfalls   \n",
       "2  \\n\\r\\nDon't you know it's been too long, since...   Quite The Adventure   \n",
       "3  \\n\\r\\nI'm losing my way\\nCan somebody find the...        Locked In Love   \n",
       "4  \\n\\r\\nI'm falling, I'm falling, harder than I ...               Falling   \n",
       "\n",
       "                                              url  \\\n",
       "0    ../lyrics/meghantrainor/illwakeupforyou.html   \n",
       "1         ../lyrics/meghantrainor/waterfalls.html   \n",
       "2  ../lyrics/meghantrainor/quitetheadventure.html   \n",
       "3       ../lyrics/meghantrainor/lockedinlove.html   \n",
       "4            ../lyrics/meghantrainor/falling.html   \n",
       "\n",
       "                                               album  year  \n",
       "0  album: \"Meghan Trainor\" (2009)(Self-released a...  2009  \n",
       "1  album: \"Meghan Trainor\" (2009)(Self-released a...  2009  \n",
       "2  album: \"Meghan Trainor\" (2009)(Self-released a...  2009  \n",
       "3  album: \"Meghan Trainor\" (2009)(Self-released a...  2009  \n",
       "4  album: \"Meghan Trainor\" (2009)(Self-released a...  2009  "
      ]
     },
     "execution_count": 39,
     "metadata": {},
     "output_type": "execute_result"
    }
   ],
   "source": [
    "import re\n",
    "df['year'] = df.album.str.extract('(\\d\\d\\d\\d)')\n",
    "df.head()"
   ]
  },
  {
   "cell_type": "code",
   "execution_count": 50,
   "metadata": {},
   "outputs": [
    {
     "data": {
      "text/plain": [
       "'Meghan Trainor'"
      ]
     },
     "execution_count": 50,
     "metadata": {},
     "output_type": "execute_result"
    }
   ],
   "source": [
    "alb = re.findall(r'\"(.*?)\"', album)\n",
    "\n",
    "type(alb)\n",
    "alb[0]"
   ]
  },
  {
   "cell_type": "code",
   "execution_count": 51,
   "metadata": {},
   "outputs": [
    {
     "data": {
      "text/html": [
       "<div>\n",
       "<style scoped>\n",
       "    .dataframe tbody tr th:only-of-type {\n",
       "        vertical-align: middle;\n",
       "    }\n",
       "\n",
       "    .dataframe tbody tr th {\n",
       "        vertical-align: top;\n",
       "    }\n",
       "\n",
       "    .dataframe thead th {\n",
       "        text-align: right;\n",
       "    }\n",
       "</style>\n",
       "<table border=\"1\" class=\"dataframe\">\n",
       "  <thead>\n",
       "    <tr style=\"text-align: right;\">\n",
       "      <th></th>\n",
       "      <th>0</th>\n",
       "      <th>lyrics</th>\n",
       "      <th>title</th>\n",
       "      <th>url</th>\n",
       "      <th>album</th>\n",
       "      <th>year</th>\n",
       "      <th>album_name</th>\n",
       "    </tr>\n",
       "  </thead>\n",
       "  <tbody>\n",
       "    <tr>\n",
       "      <th>0</th>\n",
       "      <td>(I'll Wake Up For You, ../lyrics/meghantrainor...</td>\n",
       "      <td>\\n\\r\\nI'll wake for you\\nIn an hour or two\\nJu...</td>\n",
       "      <td>I'll Wake Up For You</td>\n",
       "      <td>../lyrics/meghantrainor/illwakeupforyou.html</td>\n",
       "      <td>album: \"Meghan Trainor\" (2009)(Self-released a...</td>\n",
       "      <td>2009</td>\n",
       "      <td>Meghan Trainor</td>\n",
       "    </tr>\n",
       "    <tr>\n",
       "      <th>1</th>\n",
       "      <td>(Waterfalls, ../lyrics/meghantrainor/waterfall...</td>\n",
       "      <td>\\n\\r\\nI don't know, I don't know why\\nBut it's...</td>\n",
       "      <td>Waterfalls</td>\n",
       "      <td>../lyrics/meghantrainor/waterfalls.html</td>\n",
       "      <td>album: \"Meghan Trainor\" (2009)(Self-released a...</td>\n",
       "      <td>2009</td>\n",
       "      <td>Meghan Trainor</td>\n",
       "    </tr>\n",
       "    <tr>\n",
       "      <th>2</th>\n",
       "      <td>(Quite The Adventure, ../lyrics/meghantrainor/...</td>\n",
       "      <td>\\n\\r\\nDon't you know it's been too long, since...</td>\n",
       "      <td>Quite The Adventure</td>\n",
       "      <td>../lyrics/meghantrainor/quitetheadventure.html</td>\n",
       "      <td>album: \"Meghan Trainor\" (2009)(Self-released a...</td>\n",
       "      <td>2009</td>\n",
       "      <td>Meghan Trainor</td>\n",
       "    </tr>\n",
       "    <tr>\n",
       "      <th>3</th>\n",
       "      <td>(Locked In Love, ../lyrics/meghantrainor/locke...</td>\n",
       "      <td>\\n\\r\\nI'm losing my way\\nCan somebody find the...</td>\n",
       "      <td>Locked In Love</td>\n",
       "      <td>../lyrics/meghantrainor/lockedinlove.html</td>\n",
       "      <td>album: \"Meghan Trainor\" (2009)(Self-released a...</td>\n",
       "      <td>2009</td>\n",
       "      <td>Meghan Trainor</td>\n",
       "    </tr>\n",
       "    <tr>\n",
       "      <th>4</th>\n",
       "      <td>(Falling, ../lyrics/meghantrainor/falling.html...</td>\n",
       "      <td>\\n\\r\\nI'm falling, I'm falling, harder than I ...</td>\n",
       "      <td>Falling</td>\n",
       "      <td>../lyrics/meghantrainor/falling.html</td>\n",
       "      <td>album: \"Meghan Trainor\" (2009)(Self-released a...</td>\n",
       "      <td>2009</td>\n",
       "      <td>Meghan Trainor</td>\n",
       "    </tr>\n",
       "  </tbody>\n",
       "</table>\n",
       "</div>"
      ],
      "text/plain": [
       "                                                   0  \\\n",
       "0  (I'll Wake Up For You, ../lyrics/meghantrainor...   \n",
       "1  (Waterfalls, ../lyrics/meghantrainor/waterfall...   \n",
       "2  (Quite The Adventure, ../lyrics/meghantrainor/...   \n",
       "3  (Locked In Love, ../lyrics/meghantrainor/locke...   \n",
       "4  (Falling, ../lyrics/meghantrainor/falling.html...   \n",
       "\n",
       "                                              lyrics                 title  \\\n",
       "0  \\n\\r\\nI'll wake for you\\nIn an hour or two\\nJu...  I'll Wake Up For You   \n",
       "1  \\n\\r\\nI don't know, I don't know why\\nBut it's...            Waterfalls   \n",
       "2  \\n\\r\\nDon't you know it's been too long, since...   Quite The Adventure   \n",
       "3  \\n\\r\\nI'm losing my way\\nCan somebody find the...        Locked In Love   \n",
       "4  \\n\\r\\nI'm falling, I'm falling, harder than I ...               Falling   \n",
       "\n",
       "                                              url  \\\n",
       "0    ../lyrics/meghantrainor/illwakeupforyou.html   \n",
       "1         ../lyrics/meghantrainor/waterfalls.html   \n",
       "2  ../lyrics/meghantrainor/quitetheadventure.html   \n",
       "3       ../lyrics/meghantrainor/lockedinlove.html   \n",
       "4            ../lyrics/meghantrainor/falling.html   \n",
       "\n",
       "                                               album  year      album_name  \n",
       "0  album: \"Meghan Trainor\" (2009)(Self-released a...  2009  Meghan Trainor  \n",
       "1  album: \"Meghan Trainor\" (2009)(Self-released a...  2009  Meghan Trainor  \n",
       "2  album: \"Meghan Trainor\" (2009)(Self-released a...  2009  Meghan Trainor  \n",
       "3  album: \"Meghan Trainor\" (2009)(Self-released a...  2009  Meghan Trainor  \n",
       "4  album: \"Meghan Trainor\" (2009)(Self-released a...  2009  Meghan Trainor  "
      ]
     },
     "execution_count": 51,
     "metadata": {},
     "output_type": "execute_result"
    }
   ],
   "source": [
    "df['album_name'] = df.album.map(lambda x: (re.findall(r'\"(.*?)\"', x)))\n",
    "df['album_name'] = df.album_name.str[0]\n",
    "df.head()"
   ]
  },
  {
   "cell_type": "code",
   "execution_count": 57,
   "metadata": {},
   "outputs": [
    {
     "name": "stdout",
     "output_type": "stream",
     "text": [
      "117\n"
     ]
    },
    {
     "data": {
      "text/html": [
       "<div>\n",
       "<style scoped>\n",
       "    .dataframe tbody tr th:only-of-type {\n",
       "        vertical-align: middle;\n",
       "    }\n",
       "\n",
       "    .dataframe tbody tr th {\n",
       "        vertical-align: top;\n",
       "    }\n",
       "\n",
       "    .dataframe thead th {\n",
       "        text-align: right;\n",
       "    }\n",
       "</style>\n",
       "<table border=\"1\" class=\"dataframe\">\n",
       "  <thead>\n",
       "    <tr style=\"text-align: right;\">\n",
       "      <th></th>\n",
       "      <th>lyrics</th>\n",
       "      <th>title</th>\n",
       "      <th>url</th>\n",
       "      <th>year</th>\n",
       "      <th>album_name</th>\n",
       "    </tr>\n",
       "  </thead>\n",
       "  <tbody>\n",
       "    <tr>\n",
       "      <th>0</th>\n",
       "      <td>\\n\\r\\nI'll wake for you\\nIn an hour or two\\nJu...</td>\n",
       "      <td>I'll Wake Up For You</td>\n",
       "      <td>../lyrics/meghantrainor/illwakeupforyou.html</td>\n",
       "      <td>2009</td>\n",
       "      <td>Meghan Trainor</td>\n",
       "    </tr>\n",
       "    <tr>\n",
       "      <th>1</th>\n",
       "      <td>\\n\\r\\nI don't know, I don't know why\\nBut it's...</td>\n",
       "      <td>Waterfalls</td>\n",
       "      <td>../lyrics/meghantrainor/waterfalls.html</td>\n",
       "      <td>2009</td>\n",
       "      <td>Meghan Trainor</td>\n",
       "    </tr>\n",
       "    <tr>\n",
       "      <th>2</th>\n",
       "      <td>\\n\\r\\nDon't you know it's been too long, since...</td>\n",
       "      <td>Quite The Adventure</td>\n",
       "      <td>../lyrics/meghantrainor/quitetheadventure.html</td>\n",
       "      <td>2009</td>\n",
       "      <td>Meghan Trainor</td>\n",
       "    </tr>\n",
       "    <tr>\n",
       "      <th>3</th>\n",
       "      <td>\\n\\r\\nI'm losing my way\\nCan somebody find the...</td>\n",
       "      <td>Locked In Love</td>\n",
       "      <td>../lyrics/meghantrainor/lockedinlove.html</td>\n",
       "      <td>2009</td>\n",
       "      <td>Meghan Trainor</td>\n",
       "    </tr>\n",
       "    <tr>\n",
       "      <th>4</th>\n",
       "      <td>\\n\\r\\nI'm falling, I'm falling, harder than I ...</td>\n",
       "      <td>Falling</td>\n",
       "      <td>../lyrics/meghantrainor/falling.html</td>\n",
       "      <td>2009</td>\n",
       "      <td>Meghan Trainor</td>\n",
       "    </tr>\n",
       "  </tbody>\n",
       "</table>\n",
       "</div>"
      ],
      "text/plain": [
       "                                              lyrics                 title  \\\n",
       "0  \\n\\r\\nI'll wake for you\\nIn an hour or two\\nJu...  I'll Wake Up For You   \n",
       "1  \\n\\r\\nI don't know, I don't know why\\nBut it's...            Waterfalls   \n",
       "2  \\n\\r\\nDon't you know it's been too long, since...   Quite The Adventure   \n",
       "3  \\n\\r\\nI'm losing my way\\nCan somebody find the...        Locked In Love   \n",
       "4  \\n\\r\\nI'm falling, I'm falling, harder than I ...               Falling   \n",
       "\n",
       "                                              url  year      album_name  \n",
       "0    ../lyrics/meghantrainor/illwakeupforyou.html  2009  Meghan Trainor  \n",
       "1         ../lyrics/meghantrainor/waterfalls.html  2009  Meghan Trainor  \n",
       "2  ../lyrics/meghantrainor/quitetheadventure.html  2009  Meghan Trainor  \n",
       "3       ../lyrics/meghantrainor/lockedinlove.html  2009  Meghan Trainor  \n",
       "4            ../lyrics/meghantrainor/falling.html  2009  Meghan Trainor  "
      ]
     },
     "execution_count": 57,
     "metadata": {},
     "output_type": "execute_result"
    }
   ],
   "source": [
    "data = df.drop(['album'], axis=1)\n",
    "data = data.drop([0], axis=1)\n",
    "print(len(data))\n",
    "data.head()"
   ]
  },
  {
   "cell_type": "markdown",
   "metadata": {},
   "source": [
    "## Visualizing\n",
    "Generate two bar graphs to compare lyrical changes for the artist of your chose. For example, the two bar charts could compare the lyrics for two different songs or two different albums."
   ]
  },
  {
   "cell_type": "code",
   "execution_count": 54,
   "metadata": {},
   "outputs": [],
   "source": [
    "#Use this block for your code!\n",
    "import matplotlib.pyplot as plt\n",
    "import seaborn as sns\n",
    "%matplotlib inline"
   ]
  },
  {
   "cell_type": "code",
   "execution_count": 58,
   "metadata": {},
   "outputs": [
    {
     "data": {
      "text/html": [
       "<div>\n",
       "<style scoped>\n",
       "    .dataframe tbody tr th:only-of-type {\n",
       "        vertical-align: middle;\n",
       "    }\n",
       "\n",
       "    .dataframe tbody tr th {\n",
       "        vertical-align: top;\n",
       "    }\n",
       "\n",
       "    .dataframe thead th {\n",
       "        text-align: right;\n",
       "    }\n",
       "</style>\n",
       "<table border=\"1\" class=\"dataframe\">\n",
       "  <thead>\n",
       "    <tr style=\"text-align: right;\">\n",
       "      <th></th>\n",
       "      <th>lyrics</th>\n",
       "      <th>title</th>\n",
       "      <th>url</th>\n",
       "      <th>year</th>\n",
       "      <th>album_name</th>\n",
       "    </tr>\n",
       "  </thead>\n",
       "  <tbody>\n",
       "    <tr>\n",
       "      <th>81</th>\n",
       "      <td>\\n\\r\\nI got champagne problems, champagne prob...</td>\n",
       "      <td>Champagne Problems</td>\n",
       "      <td>../lyrics/meghantrainor/champagneproblems.html</td>\n",
       "      <td>2016</td>\n",
       "      <td>Thank You</td>\n",
       "    </tr>\n",
       "    <tr>\n",
       "      <th>24</th>\n",
       "      <td>\\n\\r\\nWhisper,\\nTo your,\\nBaby as you say good...</td>\n",
       "      <td>Whisper</td>\n",
       "      <td>../lyrics/meghantrainor/whisper.html</td>\n",
       "      <td>2011</td>\n",
       "      <td>I'll Sing With You</td>\n",
       "    </tr>\n",
       "    <tr>\n",
       "      <th>30</th>\n",
       "      <td>NA</td>\n",
       "      <td></td>\n",
       "      <td>None</td>\n",
       "      <td>2011</td>\n",
       "      <td>I'll Sing With You</td>\n",
       "    </tr>\n",
       "    <tr>\n",
       "      <th>54</th>\n",
       "      <td>\\n\\r\\nI got a heart full of rhythm that beats ...</td>\n",
       "      <td>The Best Part (Interlude)</td>\n",
       "      <td>../lyrics/meghantrainor/thebestpartinterlude.html</td>\n",
       "      <td>2015</td>\n",
       "      <td>Title</td>\n",
       "    </tr>\n",
       "    <tr>\n",
       "      <th>50</th>\n",
       "      <td>\\n\\r\\nBecause you know I'm all about that bass...</td>\n",
       "      <td>All About That Bass</td>\n",
       "      <td>../lyrics/meghantrainor/allaboutthatbass.html</td>\n",
       "      <td>2014</td>\n",
       "      <td>Title</td>\n",
       "    </tr>\n",
       "    <tr>\n",
       "      <th>63</th>\n",
       "      <td>\\n\\r\\nWhat if I, I wanna kiss you tomorrow?\\n\\...</td>\n",
       "      <td>What If I</td>\n",
       "      <td>../lyrics/meghantrainor/whatifi.html</td>\n",
       "      <td>2015</td>\n",
       "      <td>Title</td>\n",
       "    </tr>\n",
       "    <tr>\n",
       "      <th>35</th>\n",
       "      <td>\\n\\r\\nLo-lo-lo-lo-love...\\n\\nLove's got a hold...</td>\n",
       "      <td>This Love</td>\n",
       "      <td>../lyrics/meghantrainor/thislove.html</td>\n",
       "      <td>2011</td>\n",
       "      <td>Only 17</td>\n",
       "    </tr>\n",
       "    <tr>\n",
       "      <th>47</th>\n",
       "      <td>\\n\\r\\nDear future husband\\nHere's a few things...</td>\n",
       "      <td>Dear Future Husband</td>\n",
       "      <td>../lyrics/meghantrainor/dearfuturehusband.html</td>\n",
       "      <td>2014</td>\n",
       "      <td>Title</td>\n",
       "    </tr>\n",
       "    <tr>\n",
       "      <th>19</th>\n",
       "      <td>\\n\\r\\nFor awhile I \\nNever thought I \\nEver sm...</td>\n",
       "      <td>I'll Sing With You</td>\n",
       "      <td>../lyrics/meghantrainor/illsingwithyou.html</td>\n",
       "      <td>2011</td>\n",
       "      <td>I'll Sing With You</td>\n",
       "    </tr>\n",
       "    <tr>\n",
       "      <th>96</th>\n",
       "      <td>\\n\\r\\nDamn, I been working real hard on myself...</td>\n",
       "      <td>Treat Myself</td>\n",
       "      <td>../lyrics/meghantrainor/treatmyself.html</td>\n",
       "      <td>2019</td>\n",
       "      <td>Treat Myself</td>\n",
       "    </tr>\n",
       "  </tbody>\n",
       "</table>\n",
       "</div>"
      ],
      "text/plain": [
       "                                               lyrics  \\\n",
       "81  \\n\\r\\nI got champagne problems, champagne prob...   \n",
       "24  \\n\\r\\nWhisper,\\nTo your,\\nBaby as you say good...   \n",
       "30                                                 NA   \n",
       "54  \\n\\r\\nI got a heart full of rhythm that beats ...   \n",
       "50  \\n\\r\\nBecause you know I'm all about that bass...   \n",
       "63  \\n\\r\\nWhat if I, I wanna kiss you tomorrow?\\n\\...   \n",
       "35  \\n\\r\\nLo-lo-lo-lo-love...\\n\\nLove's got a hold...   \n",
       "47  \\n\\r\\nDear future husband\\nHere's a few things...   \n",
       "19  \\n\\r\\nFor awhile I \\nNever thought I \\nEver sm...   \n",
       "96  \\n\\r\\nDamn, I been working real hard on myself...   \n",
       "\n",
       "                        title  \\\n",
       "81         Champagne Problems   \n",
       "24                    Whisper   \n",
       "30                              \n",
       "54  The Best Part (Interlude)   \n",
       "50        All About That Bass   \n",
       "63                  What If I   \n",
       "35                  This Love   \n",
       "47        Dear Future Husband   \n",
       "19         I'll Sing With You   \n",
       "96               Treat Myself   \n",
       "\n",
       "                                                  url  year  \\\n",
       "81     ../lyrics/meghantrainor/champagneproblems.html  2016   \n",
       "24               ../lyrics/meghantrainor/whisper.html  2011   \n",
       "30                                               None  2011   \n",
       "54  ../lyrics/meghantrainor/thebestpartinterlude.html  2015   \n",
       "50      ../lyrics/meghantrainor/allaboutthatbass.html  2014   \n",
       "63               ../lyrics/meghantrainor/whatifi.html  2015   \n",
       "35              ../lyrics/meghantrainor/thislove.html  2011   \n",
       "47     ../lyrics/meghantrainor/dearfuturehusband.html  2014   \n",
       "19        ../lyrics/meghantrainor/illsingwithyou.html  2011   \n",
       "96           ../lyrics/meghantrainor/treatmyself.html  2019   \n",
       "\n",
       "            album_name  \n",
       "81           Thank You  \n",
       "24  I'll Sing With You  \n",
       "30  I'll Sing With You  \n",
       "54               Title  \n",
       "50               Title  \n",
       "63               Title  \n",
       "35             Only 17  \n",
       "47               Title  \n",
       "19  I'll Sing With You  \n",
       "96        Treat Myself  "
      ]
     },
     "execution_count": 58,
     "metadata": {},
     "output_type": "execute_result"
    }
   ],
   "source": [
    "row = data.iloc[0]\n",
    "# top = pd.Series(row.lyrics.split()).value_counts()\n",
    "ten_songs = data.sample(n=10)\n",
    "ten_songs"
   ]
  },
  {
   "cell_type": "code",
   "execution_count": 62,
   "metadata": {},
   "outputs": [
    {
     "data": {
      "text/plain": [
       "pandas.core.frame.DataFrame"
      ]
     },
     "execution_count": 62,
     "metadata": {},
     "output_type": "execute_result"
    }
   ],
   "source": [
    "type(ten_songs)"
   ]
  },
  {
   "cell_type": "code",
   "execution_count": 86,
   "metadata": {},
   "outputs": [
    {
     "data": {
      "image/png": "[encoded data removed]",
      "text/plain": [
       "<Figure size 864x1152 with 10 Axes>"
      ]
     },
     "metadata": {
      "needs_background": "light"
     },
     "output_type": "display_data"
    }
   ],
   "source": [
    "fig, axes = plt.subplots(5,2, figsize=(12,16))\n",
    "\n",
    "# first = ten_songs.iloc[0]\n",
    "# print(first)\n",
    "# top10 = pd.Series(first.lyrics.split()).value_counts()[:10]\n",
    "# top10.plot(ax=axes[0][0], kind='barh')\n",
    "# axes[0][0].set_title('Top 10 Words for {}'.format(first.title))\n",
    "\n",
    "row = 0\n",
    "col = 0\n",
    "for index, song in ten_songs.iterrows():\n",
    "    top10 = pd.Series(song.lyrics.split()).value_counts()[:10]\n",
    "    top10.plot(ax=axes[row][col], kind='barh')\n",
    "    axes[row][col].set_title('Top 10 Words for {}'.format(song.title))\n",
    "    if col == 1:\n",
    "        row += 1\n",
    "    if col == 0:\n",
    "        col = 1\n",
    "    else:\n",
    "        col = 0\n",
    "\n",
    "# i = 0\n",
    "# for index, song in ten_songs.iterrows():\n",
    "#     top10 = pd.Series(song.lyrics.split()).value_counts()[:10]\n",
    "#     top10.plot(ax=axes[i], kind='barh')\n",
    "#     axes[i].set_title('Top 10 Words for {}'.format(top10.title))\n",
    "#     i += 1\n",
    "    "
   ]
  },
  {
   "cell_type": "code",
   "execution_count": null,
   "metadata": {},
   "outputs": [],
   "source": []
  },
  {
   "cell_type": "markdown",
   "metadata": {},
   "source": [
    "## Level - Up\n",
    "\n",
    "Think about how you structured the data from your web scraper. Did you scrape the entire song lyrics verbatim? Did you simply store the words and their frequency counts, or did you do something else entirely? List out a few different options for how you could have stored this data. What are advantages and disadvantages of each? Be specific and think about what sort of analyses each representation would lend itself to."
   ]
  },
  {
   "cell_type": "code",
   "execution_count": null,
   "metadata": {},
   "outputs": [],
   "source": [
    "#Use this block for your code!"
   ]
  },
  {
   "cell_type": "markdown",
   "metadata": {},
   "source": [
    "## Summary"
   ]
  },
  {
   "cell_type": "markdown",
   "metadata": {},
   "source": [
    "Congratulations! You've now practiced your Beautiful Soup knowledge!"
   ]
  }
 ],
 "metadata": {
  "kernelspec": {
   "display_name": "Python 3",
   "language": "python",
   "name": "python3"
  },
  "language_info": {
   "codemirror_mode": {
    "name": "ipython",
    "version": 3
   },
   "file_extension": ".py",
   "mimetype": "text/x-python",
   "name": "python",
   "nbconvert_exporter": "python",
   "pygments_lexer": "ipython3",
   "version": "3.7.1"
  }
 },
 "nbformat": 4,
 "nbformat_minor": 2
}
